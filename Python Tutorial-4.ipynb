{
 "cells": [
  {
   "cell_type": "markdown",
   "metadata": {},
   "source": [
    "# SDSU AI Club Python Tutorial"
   ]
  },
  {
   "cell_type": "markdown",
   "metadata": {},
   "source": [
    "Welcome to the SDSU AI club's Python tutorial! This will be a tutorial that focuses on both python fundamentals as well as the usage of libraires."
   ]
  },
  {
   "cell_type": "markdown",
   "metadata": {},
   "source": [
    "# I've got the world on a string: Python and strings"
   ]
  },
  {
   "cell_type": "markdown",
   "metadata": {},
   "source": [
    "Here are some pointers about strings and python."
   ]
  },
  {
   "cell_type": "markdown",
   "metadata": {},
   "source": [
    "Although it may seem very rudimentary, here are some methods of printing strings:"
   ]
  },
  {
   "cell_type": "code",
   "execution_count": 1,
   "metadata": {},
   "outputs": [
    {
     "name": "stdout",
     "output_type": "stream",
     "text": [
      "Stephen Curry wears the number 30\n",
      "This python tutorial is the best isn't it?\n"
     ]
    }
   ],
   "source": [
    "sc='30'\n",
    "chef='Stephen Curry wears the number ' + str(sc)\n",
    "print(chef)\n",
    "print(\"This python tutorial is the best isn't it?\")\n"
   ]
  },
  {
   "cell_type": "markdown",
   "metadata": {},
   "source": [
    "If statements differ in python from other languages, as they don't need to be placed with {} and instead they use the :. In addition, this means that the else, if, and eslif statements don't need to be placed within the {}and now just after the : clause. We will show you how to complete a few if, else and elif statements in the following statements."
   ]
  },
  {
   "cell_type": "code",
   "execution_count": 2,
   "metadata": {},
   "outputs": [
    {
     "ename": "SyntaxError",
     "evalue": "Missing parentheses in call to 'print'. Did you mean print('Feeling good bro!')? (<ipython-input-2-716e58bcca0a>, line 4)",
     "output_type": "error",
     "traceback": [
      "\u001b[0;36m  File \u001b[0;32m\"<ipython-input-2-716e58bcca0a>\"\u001b[0;36m, line \u001b[0;32m4\u001b[0m\n\u001b[0;31m    print 'Feeling good bro!'\u001b[0m\n\u001b[0m                            ^\u001b[0m\n\u001b[0;31mSyntaxError\u001b[0m\u001b[0;31m:\u001b[0m Missing parentheses in call to 'print'. Did you mean print('Feeling good bro!')?\n"
     ]
    }
   ],
   "source": [
    "exercise_level=5\n",
    "mood=\"Pumped\"\n",
    "if exercise_level >= 4:\n",
    "    print 'Feeling good bro!'\n",
    "if mood== 'Sick' or exercise_level >= 7:\n",
    "    print 'Feeling ripped bro!'\n",
    "elif mood == 'Pain' or exercise_level >=5:\n",
    "    print 'No pain, no gain bro!'\n",
    "else:\n",
    "    print 'You are an alphalete'"
   ]
  },
  {
   "cell_type": "markdown",
   "metadata": {},
   "source": [
    "Now try the strings1.py exercise in the google folder"
   ]
  },
  {
   "cell_type": "markdown",
   "metadata": {},
   "source": [
    "# I've got something to check off my lists: Python and lists"
   ]
  },
  {
   "cell_type": "markdown",
   "metadata": {},
   "source": [
    "Python's for loops look similar to the for loops that many of us have seen in other languages. However, Python also uses the in construct which helps us look into the lists that we desire. For example, in the for loop below, we use the in to set the for loop in motion using the numbers that we have selected."
   ]
  },
  {
   "cell_type": "code",
   "execution_count": 3,
   "metadata": {},
   "outputs": [
    {
     "name": "stdout",
     "output_type": "stream",
     "text": [
      "2\n",
      "20\n",
      "50\n",
      "60\n",
      "200\n",
      "500\n"
     ]
    }
   ],
   "source": [
    "add= [1,10,25,30,100,250]\n",
    "for i in add:\n",
    "    print(i+i)"
   ]
  },
  {
   "cell_type": "markdown",
   "metadata": {},
   "source": [
    "Again, we can use the in construct in an if statement to determine wether there is a desired value or number in the list that we are examining. This again helps demonstrate the importance of the in construct as it can easily be used for other loops and statemnts."
   ]
  },
  {
   "cell_type": "code",
   "execution_count": 5,
   "metadata": {},
   "outputs": [
    {
     "name": "stdout",
     "output_type": "stream",
     "text": [
      "Greatest of all time\n"
     ]
    }
   ],
   "source": [
    "nba = ['Curry', 'Lebron', 'Durant', 'Harden', 'Giannis']\n",
    "if 'Curry' in nba:\n",
    "    print('Greatest of all time')\n",
    "    \n",
    "    "
   ]
  },
  {
   "cell_type": "markdown",
   "metadata": {},
   "source": [
    "Now that we have discussed the power of the in construct in lists, we can now look at list methods that we can use when manipulating lists."
   ]
  },
  {
   "cell_type": "code",
   "execution_count": 7,
   "metadata": {},
   "outputs": [
    {
     "name": "stdout",
     "output_type": "stream",
     "text": [
      "['Curry', 'Klay', 'Lebron', 'Durant', 'Harden', 'Giannis', 'Embiid', 'Kawhi', 'Gobert']\n",
      "3\n",
      "['Curry', 'Klay', 'Durant', 'Harden', 'Giannis', 'Embiid', 'Kawhi', 'Gobert']\n"
     ]
    }
   ],
   "source": [
    "list = ['Curry', 'Lebron', 'Durant','Harden','Giannis']\n",
    "list.append('Embiid')         ## adds Embiid at the end of the list\n",
    "list.insert(1, 'Klay')        ## inserts Klay at index of 1\n",
    "list.extend(['Kawhi', 'Gobert'])  ## Extends the list by adding Kawhi and Gobert to the end\n",
    "print(list)\n",
    "print(list.index('Durant'))    \n",
    "list.remove('Lebron')         ## search and remove that element\n",
    "print(list)  ## Prints the final list after "
   ]
  },
  {
   "cell_type": "markdown",
   "metadata": {},
   "source": [
    "Sorting is similar to other languages, but there are some cool things that we can do with custom sorting. We can custom sort lists with our own criteria. In the example below, we can sort the list according to length."
   ]
  },
  {
   "cell_type": "code",
   "execution_count": 9,
   "metadata": {},
   "outputs": [
    {
     "name": "stdout",
     "output_type": "stream",
     "text": [
      "['Pac', 'NWA', 'biggie', 'Yezzus', 'OutKast', 'Wu Tang', 'Blueface']\n"
     ]
    }
   ],
   "source": [
    "examp= ['biggie', 'Pac', 'OutKast', 'NWA','Wu Tang', 'Yezzus', 'Blueface']\n",
    "print(sorted(examp, key=len))"
   ]
  },
  {
   "cell_type": "markdown",
   "metadata": {},
   "source": [
    "Tuples are another way of sorting lists but they are immutable and can not change size. Tuples are like structs are a way to pass around a small, logical and fixed size set of values."
   ]
  },
  {
   "cell_type": "code",
   "execution_count": 10,
   "metadata": {},
   "outputs": [
    {
     "name": "stdout",
     "output_type": "stream",
     "text": [
      "3\n",
      "called\n",
      "('A', 'tribe', 'called', 'Quest')\n"
     ]
    }
   ],
   "source": [
    " tuple = ('A', 'tribe', 'called')\n",
    "print(len(tuple))  \n",
    "print(tuple[2])    \n",
    "##tuple[2] = 'OutKast'  ## This does not work because tuples can not be changed\n",
    "tuple = ('A', 'tribe', 'called','Quest')  \n",
    "print(tuple)"
   ]
  },
  {
   "cell_type": "markdown",
   "metadata": {},
   "source": [
    "# Let's look it up in the Dictionary: Python and dictionaries"
   ]
  },
  {
   "cell_type": "markdown",
   "metadata": {},
   "source": [
    "Dictionaries in python are very similar to lists, as they are both mutable and dynamic. Unlike lists, dictionaries index elements by keys which can in turn be strings."
   ]
  },
  {
   "cell_type": "code",
   "execution_count": 12,
   "metadata": {},
   "outputs": [
    {
     "name": "stdout",
     "output_type": "stream",
     "text": [
      "{'w': 'warriors', 'j': 'jazz', 's': 'spurs'}\n",
      "jazz\n",
      "None\n"
     ]
    }
   ],
   "source": [
    "dict = {}\n",
    "dict['w'] = 'warriors'\n",
    "dict['j'] = 'jazz'\n",
    "dict['s'] = 'spurs'\n",
    "\n",
    "print(dict)  \n",
    "\n",
    "print(dict['j'])     \n",
    "dict['j'] = 6               \n",
    "## Throws KeyError\n",
    "if 'z' in dict: print(dict['z'])     ## Avoid KeyError\n",
    "print(dict.get('z'))  ## None (instead of KeyError)"
   ]
  },
  {
   "cell_type": "markdown",
   "metadata": {},
   "source": []
  },
  {
   "cell_type": "markdown",
   "metadata": {},
   "source": [
    "# Express yourself: Python and regular expressions"
   ]
  },
  {
   "cell_type": "markdown",
   "metadata": {},
   "source": [
    "Regular expressions are a powerful language that help us match text patterns. When we use regular expressions, we make sure to add the 're' module. Again, here are three different examples"
   ]
  },
  {
   "cell_type": "code",
   "execution_count": 13,
   "metadata": {},
   "outputs": [
    {
     "data": {
      "text/plain": [
       "re.compile(r'<title>(.*)</title>', re.UNICODE)"
      ]
     },
     "execution_count": 13,
     "metadata": {},
     "output_type": "execute_result"
    }
   ],
   "source": [
    "import re\n",
    "re.compile('<title>(.*)</title>')"
   ]
  },
  {
   "cell_type": "code",
   "execution_count": 15,
   "metadata": {},
   "outputs": [
    {
     "name": "stdout",
     "output_type": "stream",
     "text": [
      "found word:OutKast\n"
     ]
    }
   ],
   "source": [
    "str = 'an example word:OutKast!!'\n",
    "match = re.search(r'word:\\w\\w\\w\\w\\w\\w\\w', str) #search for word of that length\n",
    "if match:\n",
    "    print('found', match.group()) ## 'found word:OutKast'\n",
    "else:\n",
    "    print('did not find')\n"
   ]
  },
  {
   "cell_type": "code",
   "execution_count": 17,
   "metadata": {},
   "outputs": [
    {
     "name": "stdout",
     "output_type": "stream",
     "text": [
      "sc@aol\n"
     ]
    }
   ],
   "source": [
    "str = 'warriors_fan-sc@aol.com'\n",
    "match = re.search(r'\\w+@\\w+', str)\n",
    "if match:\n",
    "    print(match.group())  "
   ]
  },
  {
   "cell_type": "code",
   "execution_count": 18,
   "metadata": {},
   "outputs": [
    {
     "name": "stdout",
     "output_type": "stream",
     "text": [
      "warriors_fan-sc@bing.com\n",
      "warriors_fan-sc\n",
      "bing.com\n"
     ]
    }
   ],
   "source": [
    "  str = 'warriors_fan-sc@bing.com '\n",
    "  match = re.search(r'([\\w.-]+)@([\\w.-]+)', str)\n",
    "  if match:\n",
    "    print(match.group())   \n",
    "    print(match.group(1)) #break up the string into two parts divided by the @  \n",
    "    print(match.group(2))  \n"
   ]
  },
  {
   "cell_type": "markdown",
   "metadata": {},
   "source": [
    "# Donde esta la biblioteca: Python and its libraries"
   ]
  },
  {
   "cell_type": "code",
   "execution_count": 19,
   "metadata": {},
   "outputs": [],
   "source": [
    "import pandas as pd\n",
    "from matplotlib import pyplot as plt\n",
    "import seaborn as sb\n",
    "import numpy as np"
   ]
  },
  {
   "cell_type": "markdown",
   "metadata": {},
   "source": [
    "These are just a few of the libraries that we will demonstrate today."
   ]
  },
  {
   "cell_type": "markdown",
   "metadata": {},
   "source": [
    "Pandas is the most powerful tool for those of us using python and have an interest in machine learning and artificial intellligence. So what makes pandas so great, well here are some reasons: it can do calculations for us, clean data up by removing missing data, visulaize the data using matplotlib, and filter rows and columns by criteria."
   ]
  },
  {
   "cell_type": "code",
   "execution_count": 22,
   "metadata": {},
   "outputs": [
    {
     "data": {
      "text/html": [
       "<div>\n",
       "<style scoped>\n",
       "    .dataframe tbody tr th:only-of-type {\n",
       "        vertical-align: middle;\n",
       "    }\n",
       "\n",
       "    .dataframe tbody tr th {\n",
       "        vertical-align: top;\n",
       "    }\n",
       "\n",
       "    .dataframe thead th {\n",
       "        text-align: right;\n",
       "    }\n",
       "</style>\n",
       "<table border=\"1\" class=\"dataframe\">\n",
       "  <thead>\n",
       "    <tr style=\"text-align: right;\">\n",
       "      <th></th>\n",
       "      <th>Rk</th>\n",
       "      <th>Team</th>\n",
       "      <th>G</th>\n",
       "      <th>MP</th>\n",
       "      <th>FG</th>\n",
       "      <th>FGA</th>\n",
       "      <th>FG%</th>\n",
       "      <th>3P</th>\n",
       "      <th>3PA</th>\n",
       "      <th>3P%</th>\n",
       "      <th>...</th>\n",
       "      <th>FT%</th>\n",
       "      <th>ORB</th>\n",
       "      <th>DRB</th>\n",
       "      <th>TRB</th>\n",
       "      <th>AST</th>\n",
       "      <th>STL</th>\n",
       "      <th>BLK</th>\n",
       "      <th>TOV</th>\n",
       "      <th>PF</th>\n",
       "      <th>PTS</th>\n",
       "    </tr>\n",
       "  </thead>\n",
       "  <tbody>\n",
       "    <tr>\n",
       "      <th>0</th>\n",
       "      <td>1.0</td>\n",
       "      <td>Milwaukee Bucks*</td>\n",
       "      <td>82</td>\n",
       "      <td>241.2</td>\n",
       "      <td>43.4</td>\n",
       "      <td>91.1</td>\n",
       "      <td>0.476</td>\n",
       "      <td>13.5</td>\n",
       "      <td>38.2</td>\n",
       "      <td>0.353</td>\n",
       "      <td>...</td>\n",
       "      <td>0.773</td>\n",
       "      <td>9.3</td>\n",
       "      <td>40.4</td>\n",
       "      <td>49.7</td>\n",
       "      <td>26.0</td>\n",
       "      <td>7.5</td>\n",
       "      <td>5.9</td>\n",
       "      <td>13.9</td>\n",
       "      <td>19.6</td>\n",
       "      <td>118.1</td>\n",
       "    </tr>\n",
       "    <tr>\n",
       "      <th>1</th>\n",
       "      <td>2.0</td>\n",
       "      <td>Golden State Warriors*</td>\n",
       "      <td>82</td>\n",
       "      <td>241.5</td>\n",
       "      <td>44.0</td>\n",
       "      <td>89.8</td>\n",
       "      <td>0.491</td>\n",
       "      <td>13.3</td>\n",
       "      <td>34.4</td>\n",
       "      <td>0.385</td>\n",
       "      <td>...</td>\n",
       "      <td>0.801</td>\n",
       "      <td>9.7</td>\n",
       "      <td>36.5</td>\n",
       "      <td>46.2</td>\n",
       "      <td>29.4</td>\n",
       "      <td>7.6</td>\n",
       "      <td>6.4</td>\n",
       "      <td>14.3</td>\n",
       "      <td>21.4</td>\n",
       "      <td>117.7</td>\n",
       "    </tr>\n",
       "    <tr>\n",
       "      <th>2</th>\n",
       "      <td>3.0</td>\n",
       "      <td>New Orleans Pelicans</td>\n",
       "      <td>82</td>\n",
       "      <td>240.9</td>\n",
       "      <td>43.7</td>\n",
       "      <td>92.2</td>\n",
       "      <td>0.473</td>\n",
       "      <td>10.3</td>\n",
       "      <td>29.9</td>\n",
       "      <td>0.344</td>\n",
       "      <td>...</td>\n",
       "      <td>0.761</td>\n",
       "      <td>11.1</td>\n",
       "      <td>36.2</td>\n",
       "      <td>47.3</td>\n",
       "      <td>27.0</td>\n",
       "      <td>7.4</td>\n",
       "      <td>5.4</td>\n",
       "      <td>14.8</td>\n",
       "      <td>21.1</td>\n",
       "      <td>115.4</td>\n",
       "    </tr>\n",
       "    <tr>\n",
       "      <th>3</th>\n",
       "      <td>4.0</td>\n",
       "      <td>Philadelphia 76ers*</td>\n",
       "      <td>82</td>\n",
       "      <td>241.5</td>\n",
       "      <td>41.5</td>\n",
       "      <td>88.2</td>\n",
       "      <td>0.471</td>\n",
       "      <td>10.8</td>\n",
       "      <td>30.2</td>\n",
       "      <td>0.359</td>\n",
       "      <td>...</td>\n",
       "      <td>0.771</td>\n",
       "      <td>10.9</td>\n",
       "      <td>36.9</td>\n",
       "      <td>47.8</td>\n",
       "      <td>26.9</td>\n",
       "      <td>7.4</td>\n",
       "      <td>5.3</td>\n",
       "      <td>14.9</td>\n",
       "      <td>21.3</td>\n",
       "      <td>115.2</td>\n",
       "    </tr>\n",
       "    <tr>\n",
       "      <th>4</th>\n",
       "      <td>5.0</td>\n",
       "      <td>Los Angeles Clippers*</td>\n",
       "      <td>82</td>\n",
       "      <td>241.8</td>\n",
       "      <td>41.3</td>\n",
       "      <td>87.5</td>\n",
       "      <td>0.471</td>\n",
       "      <td>10.0</td>\n",
       "      <td>25.8</td>\n",
       "      <td>0.388</td>\n",
       "      <td>...</td>\n",
       "      <td>0.792</td>\n",
       "      <td>9.7</td>\n",
       "      <td>35.8</td>\n",
       "      <td>45.5</td>\n",
       "      <td>24.0</td>\n",
       "      <td>6.8</td>\n",
       "      <td>4.7</td>\n",
       "      <td>14.5</td>\n",
       "      <td>23.3</td>\n",
       "      <td>115.1</td>\n",
       "    </tr>\n",
       "  </tbody>\n",
       "</table>\n",
       "<p>5 rows × 25 columns</p>\n",
       "</div>"
      ],
      "text/plain": [
       "    Rk                    Team   G     MP    FG   FGA    FG%    3P   3PA  \\\n",
       "0  1.0        Milwaukee Bucks*  82  241.2  43.4  91.1  0.476  13.5  38.2   \n",
       "1  2.0  Golden State Warriors*  82  241.5  44.0  89.8  0.491  13.3  34.4   \n",
       "2  3.0    New Orleans Pelicans  82  240.9  43.7  92.2  0.473  10.3  29.9   \n",
       "3  4.0     Philadelphia 76ers*  82  241.5  41.5  88.2  0.471  10.8  30.2   \n",
       "4  5.0   Los Angeles Clippers*  82  241.8  41.3  87.5  0.471  10.0  25.8   \n",
       "\n",
       "     3P%  ...    FT%   ORB   DRB   TRB   AST  STL  BLK   TOV    PF    PTS  \n",
       "0  0.353  ...  0.773   9.3  40.4  49.7  26.0  7.5  5.9  13.9  19.6  118.1  \n",
       "1  0.385  ...  0.801   9.7  36.5  46.2  29.4  7.6  6.4  14.3  21.4  117.7  \n",
       "2  0.344  ...  0.761  11.1  36.2  47.3  27.0  7.4  5.4  14.8  21.1  115.4  \n",
       "3  0.359  ...  0.771  10.9  36.9  47.8  26.9  7.4  5.3  14.9  21.3  115.2  \n",
       "4  0.388  ...  0.792   9.7  35.8  45.5  24.0  6.8  4.7  14.5  23.3  115.1  \n",
       "\n",
       "[5 rows x 25 columns]"
      ]
     },
     "execution_count": 22,
     "metadata": {},
     "output_type": "execute_result"
    }
   ],
   "source": [
    "#from here we will begin to use pandas\n",
    "nba_df=pd.read_csv(\"nba-data/nba.csv\")\n",
    "nba_df.head()"
   ]
  },
  {
   "cell_type": "code",
   "execution_count": 23,
   "metadata": {},
   "outputs": [
    {
     "data": {
      "text/html": [
       "<div>\n",
       "<style scoped>\n",
       "    .dataframe tbody tr th:only-of-type {\n",
       "        vertical-align: middle;\n",
       "    }\n",
       "\n",
       "    .dataframe tbody tr th {\n",
       "        vertical-align: top;\n",
       "    }\n",
       "\n",
       "    .dataframe thead th {\n",
       "        text-align: right;\n",
       "    }\n",
       "</style>\n",
       "<table border=\"1\" class=\"dataframe\">\n",
       "  <thead>\n",
       "    <tr style=\"text-align: right;\">\n",
       "      <th></th>\n",
       "      <th>Rk</th>\n",
       "      <th>Team</th>\n",
       "      <th>G</th>\n",
       "      <th>MP</th>\n",
       "      <th>FG</th>\n",
       "      <th>FGA</th>\n",
       "      <th>FG%</th>\n",
       "      <th>3P</th>\n",
       "      <th>3PA</th>\n",
       "      <th>3P%</th>\n",
       "      <th>...</th>\n",
       "      <th>FT%</th>\n",
       "      <th>ORB</th>\n",
       "      <th>DRB</th>\n",
       "      <th>TRB</th>\n",
       "      <th>AST</th>\n",
       "      <th>STL</th>\n",
       "      <th>BLK</th>\n",
       "      <th>TOV</th>\n",
       "      <th>PF</th>\n",
       "      <th>PTS</th>\n",
       "    </tr>\n",
       "  </thead>\n",
       "  <tbody>\n",
       "    <tr>\n",
       "      <th>26</th>\n",
       "      <td>27.0</td>\n",
       "      <td>Chicago Bulls</td>\n",
       "      <td>82</td>\n",
       "      <td>242.7</td>\n",
       "      <td>39.8</td>\n",
       "      <td>87.9</td>\n",
       "      <td>0.453</td>\n",
       "      <td>9.1</td>\n",
       "      <td>25.9</td>\n",
       "      <td>0.351</td>\n",
       "      <td>...</td>\n",
       "      <td>0.783</td>\n",
       "      <td>8.8</td>\n",
       "      <td>34.1</td>\n",
       "      <td>42.9</td>\n",
       "      <td>21.9</td>\n",
       "      <td>7.4</td>\n",
       "      <td>4.3</td>\n",
       "      <td>14.1</td>\n",
       "      <td>20.3</td>\n",
       "      <td>104.9</td>\n",
       "    </tr>\n",
       "    <tr>\n",
       "      <th>27</th>\n",
       "      <td>28.0</td>\n",
       "      <td>New York Knicks</td>\n",
       "      <td>82</td>\n",
       "      <td>241.2</td>\n",
       "      <td>38.2</td>\n",
       "      <td>88.3</td>\n",
       "      <td>0.433</td>\n",
       "      <td>10.0</td>\n",
       "      <td>29.5</td>\n",
       "      <td>0.340</td>\n",
       "      <td>...</td>\n",
       "      <td>0.759</td>\n",
       "      <td>10.5</td>\n",
       "      <td>34.3</td>\n",
       "      <td>44.7</td>\n",
       "      <td>20.1</td>\n",
       "      <td>6.8</td>\n",
       "      <td>5.1</td>\n",
       "      <td>14.0</td>\n",
       "      <td>20.9</td>\n",
       "      <td>104.6</td>\n",
       "    </tr>\n",
       "    <tr>\n",
       "      <th>28</th>\n",
       "      <td>29.0</td>\n",
       "      <td>Cleveland Cavaliers</td>\n",
       "      <td>82</td>\n",
       "      <td>240.9</td>\n",
       "      <td>38.9</td>\n",
       "      <td>87.6</td>\n",
       "      <td>0.444</td>\n",
       "      <td>10.3</td>\n",
       "      <td>29.1</td>\n",
       "      <td>0.355</td>\n",
       "      <td>...</td>\n",
       "      <td>0.792</td>\n",
       "      <td>10.7</td>\n",
       "      <td>31.9</td>\n",
       "      <td>42.7</td>\n",
       "      <td>20.7</td>\n",
       "      <td>6.5</td>\n",
       "      <td>2.4</td>\n",
       "      <td>13.5</td>\n",
       "      <td>20.0</td>\n",
       "      <td>104.5</td>\n",
       "    </tr>\n",
       "    <tr>\n",
       "      <th>29</th>\n",
       "      <td>30.0</td>\n",
       "      <td>Memphis Grizzlies</td>\n",
       "      <td>82</td>\n",
       "      <td>242.4</td>\n",
       "      <td>38.0</td>\n",
       "      <td>84.4</td>\n",
       "      <td>0.450</td>\n",
       "      <td>9.9</td>\n",
       "      <td>28.9</td>\n",
       "      <td>0.342</td>\n",
       "      <td>...</td>\n",
       "      <td>0.772</td>\n",
       "      <td>8.8</td>\n",
       "      <td>33.0</td>\n",
       "      <td>41.8</td>\n",
       "      <td>23.9</td>\n",
       "      <td>8.3</td>\n",
       "      <td>5.5</td>\n",
       "      <td>14.0</td>\n",
       "      <td>22.0</td>\n",
       "      <td>103.5</td>\n",
       "    </tr>\n",
       "    <tr>\n",
       "      <th>30</th>\n",
       "      <td>NaN</td>\n",
       "      <td>League Average</td>\n",
       "      <td>82</td>\n",
       "      <td>241.6</td>\n",
       "      <td>41.1</td>\n",
       "      <td>89.2</td>\n",
       "      <td>0.461</td>\n",
       "      <td>11.4</td>\n",
       "      <td>32.0</td>\n",
       "      <td>0.355</td>\n",
       "      <td>...</td>\n",
       "      <td>0.766</td>\n",
       "      <td>10.3</td>\n",
       "      <td>34.8</td>\n",
       "      <td>45.2</td>\n",
       "      <td>24.6</td>\n",
       "      <td>7.6</td>\n",
       "      <td>5.0</td>\n",
       "      <td>14.1</td>\n",
       "      <td>20.9</td>\n",
       "      <td>111.2</td>\n",
       "    </tr>\n",
       "  </tbody>\n",
       "</table>\n",
       "<p>5 rows × 25 columns</p>\n",
       "</div>"
      ],
      "text/plain": [
       "      Rk                 Team   G     MP    FG   FGA    FG%    3P   3PA  \\\n",
       "26  27.0        Chicago Bulls  82  242.7  39.8  87.9  0.453   9.1  25.9   \n",
       "27  28.0      New York Knicks  82  241.2  38.2  88.3  0.433  10.0  29.5   \n",
       "28  29.0  Cleveland Cavaliers  82  240.9  38.9  87.6  0.444  10.3  29.1   \n",
       "29  30.0    Memphis Grizzlies  82  242.4  38.0  84.4  0.450   9.9  28.9   \n",
       "30   NaN       League Average  82  241.6  41.1  89.2  0.461  11.4  32.0   \n",
       "\n",
       "      3P%  ...    FT%   ORB   DRB   TRB   AST  STL  BLK   TOV    PF    PTS  \n",
       "26  0.351  ...  0.783   8.8  34.1  42.9  21.9  7.4  4.3  14.1  20.3  104.9  \n",
       "27  0.340  ...  0.759  10.5  34.3  44.7  20.1  6.8  5.1  14.0  20.9  104.6  \n",
       "28  0.355  ...  0.792  10.7  31.9  42.7  20.7  6.5  2.4  13.5  20.0  104.5  \n",
       "29  0.342  ...  0.772   8.8  33.0  41.8  23.9  8.3  5.5  14.0  22.0  103.5  \n",
       "30  0.355  ...  0.766  10.3  34.8  45.2  24.6  7.6  5.0  14.1  20.9  111.2  \n",
       "\n",
       "[5 rows x 25 columns]"
      ]
     },
     "execution_count": 23,
     "metadata": {},
     "output_type": "execute_result"
    }
   ],
   "source": [
    "nba_df.tail(5)\n",
    "#This will show us the last 5 rows\n",
    "#Now we can see the stats for the bottom 4 teams as well as the league average"
   ]
  },
  {
   "cell_type": "code",
   "execution_count": 24,
   "metadata": {},
   "outputs": [
    {
     "name": "stdout",
     "output_type": "stream",
     "text": [
      "<class 'pandas.core.frame.DataFrame'>\n",
      "RangeIndex: 31 entries, 0 to 30\n",
      "Data columns (total 25 columns):\n",
      "Rk      30 non-null float64\n",
      "Team    31 non-null object\n",
      "G       31 non-null int64\n",
      "MP      31 non-null float64\n",
      "FG      31 non-null float64\n",
      "FGA     31 non-null float64\n",
      "FG%     31 non-null float64\n",
      "3P      31 non-null float64\n",
      "3PA     31 non-null float64\n",
      "3P%     31 non-null float64\n",
      "2P      31 non-null float64\n",
      "2PA     31 non-null float64\n",
      "2P%     31 non-null float64\n",
      "FT      31 non-null float64\n",
      "FTA     31 non-null float64\n",
      "FT%     31 non-null float64\n",
      "ORB     31 non-null float64\n",
      "DRB     31 non-null float64\n",
      "TRB     31 non-null float64\n",
      "AST     31 non-null float64\n",
      "STL     31 non-null float64\n",
      "BLK     31 non-null float64\n",
      "TOV     31 non-null float64\n",
      "PF      31 non-null float64\n",
      "PTS     31 non-null float64\n",
      "dtypes: float64(23), int64(1), object(1)\n",
      "memory usage: 6.2+ KB\n"
     ]
    }
   ],
   "source": [
    "nba_df.info()"
   ]
  },
  {
   "cell_type": "markdown",
   "metadata": {},
   "source": [
    "Now we will apply some matplotlib plots to better visualize our data using plots. In addition, we can use seaborn to better visualize "
   ]
  },
  {
   "cell_type": "code",
   "execution_count": 25,
   "metadata": {},
   "outputs": [],
   "source": [
    "nba=np.loadtxt(\"nba-data/nbaPF.txt\")"
   ]
  },
  {
   "cell_type": "code",
   "execution_count": 26,
   "metadata": {},
   "outputs": [
    {
     "data": {
      "text/plain": [
       "Text(0.5, 1.0, 'Point Dif. vs Wins')"
      ]
     },
     "execution_count": 26,
     "metadata": {},
     "output_type": "execute_result"
    },
    {
     "data": {
      "image/png": "[encoded data removed]",
      "text/plain": [
       "<Figure size 432x288 with 1 Axes>"
      ]
     },
     "metadata": {
      "needs_background": "light"
     },
     "output_type": "display_data"
    }
   ],
   "source": [
    "for sample in enumerate(nba):\n",
    "    plt.scatter(sample[1][0], sample[1][1])\n",
    "plt.xlabel('PD')\n",
    "plt.ylabel('Wins')\n",
    "plt.title('Point Dif. vs Wins')\n",
    "\n"
   ]
  },
  {
   "cell_type": "code",
   "execution_count": 27,
   "metadata": {},
   "outputs": [
    {
     "data": {
      "image/png": "[encoded data removed]",
      "text/plain": [
       "<Figure size 720x720 with 4 Axes>"
      ]
     },
     "metadata": {},
     "output_type": "display_data"
    }
   ],
   "source": [
    "import seaborn as sns; sns.set(color_codes=True)\n",
    "iris = sns.load_dataset(\"iris\")\n",
    "species = iris.pop(\"species\")\n",
    "g = sns.clustermap(iris)"
   ]
  },
  {
   "cell_type": "code",
   "execution_count": 28,
   "metadata": {},
   "outputs": [
    {
     "data": {
      "text/html": [
       "<div>\n",
       "<style scoped>\n",
       "    .dataframe tbody tr th:only-of-type {\n",
       "        vertical-align: middle;\n",
       "    }\n",
       "\n",
       "    .dataframe tbody tr th {\n",
       "        vertical-align: top;\n",
       "    }\n",
       "\n",
       "    .dataframe thead th {\n",
       "        text-align: right;\n",
       "    }\n",
       "</style>\n",
       "<table border=\"1\" class=\"dataframe\">\n",
       "  <thead>\n",
       "    <tr style=\"text-align: right;\">\n",
       "      <th></th>\n",
       "      <th>PassengerId</th>\n",
       "      <th>Survived</th>\n",
       "      <th>Pclass</th>\n",
       "      <th>Name</th>\n",
       "      <th>Sex</th>\n",
       "      <th>Age</th>\n",
       "      <th>SibSp</th>\n",
       "      <th>Parch</th>\n",
       "      <th>Ticket</th>\n",
       "      <th>Fare</th>\n",
       "      <th>Cabin</th>\n",
       "      <th>Embarked</th>\n",
       "    </tr>\n",
       "  </thead>\n",
       "  <tbody>\n",
       "    <tr>\n",
       "      <th>0</th>\n",
       "      <td>1</td>\n",
       "      <td>0</td>\n",
       "      <td>3</td>\n",
       "      <td>Braund, Mr. Owen Harris</td>\n",
       "      <td>male</td>\n",
       "      <td>22.0</td>\n",
       "      <td>1</td>\n",
       "      <td>0</td>\n",
       "      <td>A/5 21171</td>\n",
       "      <td>7.2500</td>\n",
       "      <td>NaN</td>\n",
       "      <td>S</td>\n",
       "    </tr>\n",
       "    <tr>\n",
       "      <th>1</th>\n",
       "      <td>2</td>\n",
       "      <td>1</td>\n",
       "      <td>1</td>\n",
       "      <td>Cumings, Mrs. John Bradley (Florence Briggs Th...</td>\n",
       "      <td>female</td>\n",
       "      <td>38.0</td>\n",
       "      <td>1</td>\n",
       "      <td>0</td>\n",
       "      <td>PC 17599</td>\n",
       "      <td>71.2833</td>\n",
       "      <td>C85</td>\n",
       "      <td>C</td>\n",
       "    </tr>\n",
       "    <tr>\n",
       "      <th>2</th>\n",
       "      <td>3</td>\n",
       "      <td>1</td>\n",
       "      <td>3</td>\n",
       "      <td>Heikkinen, Miss. Laina</td>\n",
       "      <td>female</td>\n",
       "      <td>26.0</td>\n",
       "      <td>0</td>\n",
       "      <td>0</td>\n",
       "      <td>STON/O2. 3101282</td>\n",
       "      <td>7.9250</td>\n",
       "      <td>NaN</td>\n",
       "      <td>S</td>\n",
       "    </tr>\n",
       "    <tr>\n",
       "      <th>3</th>\n",
       "      <td>4</td>\n",
       "      <td>1</td>\n",
       "      <td>1</td>\n",
       "      <td>Futrelle, Mrs. Jacques Heath (Lily May Peel)</td>\n",
       "      <td>female</td>\n",
       "      <td>35.0</td>\n",
       "      <td>1</td>\n",
       "      <td>0</td>\n",
       "      <td>113803</td>\n",
       "      <td>53.1000</td>\n",
       "      <td>C123</td>\n",
       "      <td>S</td>\n",
       "    </tr>\n",
       "    <tr>\n",
       "      <th>4</th>\n",
       "      <td>5</td>\n",
       "      <td>0</td>\n",
       "      <td>3</td>\n",
       "      <td>Allen, Mr. William Henry</td>\n",
       "      <td>male</td>\n",
       "      <td>35.0</td>\n",
       "      <td>0</td>\n",
       "      <td>0</td>\n",
       "      <td>373450</td>\n",
       "      <td>8.0500</td>\n",
       "      <td>NaN</td>\n",
       "      <td>S</td>\n",
       "    </tr>\n",
       "  </tbody>\n",
       "</table>\n",
       "</div>"
      ],
      "text/plain": [
       "   PassengerId  Survived  Pclass  \\\n",
       "0            1         0       3   \n",
       "1            2         1       1   \n",
       "2            3         1       3   \n",
       "3            4         1       1   \n",
       "4            5         0       3   \n",
       "\n",
       "                                                Name     Sex   Age  SibSp  \\\n",
       "0                            Braund, Mr. Owen Harris    male  22.0      1   \n",
       "1  Cumings, Mrs. John Bradley (Florence Briggs Th...  female  38.0      1   \n",
       "2                             Heikkinen, Miss. Laina  female  26.0      0   \n",
       "3       Futrelle, Mrs. Jacques Heath (Lily May Peel)  female  35.0      1   \n",
       "4                           Allen, Mr. William Henry    male  35.0      0   \n",
       "\n",
       "   Parch            Ticket     Fare Cabin Embarked  \n",
       "0      0         A/5 21171   7.2500   NaN        S  \n",
       "1      0          PC 17599  71.2833   C85        C  \n",
       "2      0  STON/O2. 3101282   7.9250   NaN        S  \n",
       "3      0            113803  53.1000  C123        S  \n",
       "4      0            373450   8.0500   NaN        S  "
      ]
     },
     "execution_count": 28,
     "metadata": {},
     "output_type": "execute_result"
    }
   ],
   "source": [
    "url = 'https://raw.githubusercontent.com/BigDataGal/Python-for-Data-Science/master/titanic-train.csv'\n",
    "titanic = pd.read_csv(url)\n",
    "titanic.columns = ['PassengerId','Survived','Pclass','Name','Sex','Age','SibSp','Parch','Ticket','Fare','Cabin','Embarked']\n",
    "titanic.head()"
   ]
  },
  {
   "cell_type": "code",
   "execution_count": 29,
   "metadata": {},
   "outputs": [
    {
     "data": {
      "text/plain": [
       "<matplotlib.axes._subplots.AxesSubplot at 0x7fac8ed96240>"
      ]
     },
     "execution_count": 29,
     "metadata": {},
     "output_type": "execute_result"
    },
    {
     "data": {
      "image/png": "[encoded data removed]",
      "text/plain": [
       "<Figure size 432x288 with 1 Axes>"
      ]
     },
     "metadata": {},
     "output_type": "display_data"
    }
   ],
   "source": [
    "sb.countplot(x='Survived', data=titanic, palette='hls')"
   ]
  },
  {
   "cell_type": "code",
   "execution_count": 30,
   "metadata": {},
   "outputs": [
    {
     "data": {
      "text/plain": [
       "<matplotlib.axes._subplots.AxesSubplot at 0x7fac8ed596d8>"
      ]
     },
     "execution_count": 30,
     "metadata": {},
     "output_type": "execute_result"
    },
    {
     "data": {
      "image/png": "[encoded data removed]",
      "text/plain": [
       "<Figure size 432x288 with 1 Axes>"
      ]
     },
     "metadata": {},
     "output_type": "display_data"
    }
   ],
   "source": [
    "sb.boxplot(x='Pclass', y='Age', data=titanic, palette='hls')"
   ]
  },
  {
   "cell_type": "code",
   "execution_count": 31,
   "metadata": {},
   "outputs": [
    {
     "data": {
      "text/plain": [
       "<matplotlib.axes._subplots.AxesSubplot at 0x7fac8ecf94e0>"
      ]
     },
     "execution_count": 31,
     "metadata": {},
     "output_type": "execute_result"
    },
    {
     "data": {
      "image/png": "[encoded data removed]",
      "text/plain": [
       "<Figure size 432x288 with 2 Axes>"
      ]
     },
     "metadata": {},
     "output_type": "display_data"
    }
   ],
   "source": [
    "sb.heatmap(titanic.corr())"
   ]
  },
  {
   "cell_type": "markdown",
   "metadata": {},
   "source": [
    "This is a demonstration of numpy and its ability to deal with arrays. We will first be showing you some of the neat features when it comes to creating an array with numpy and then we will be showing you some of the array arithmetic that we can do with numpy."
   ]
  },
  {
   "cell_type": "code",
   "execution_count": 32,
   "metadata": {},
   "outputs": [
    {
     "name": "stdout",
     "output_type": "stream",
     "text": [
      "(7,)\n",
      "[ 5  2  3  6  7  9 10]\n",
      "(2, 3)\n",
      "1 2 4\n"
     ]
    }
   ],
   "source": [
    "a = np.array([1, 2, 3,6,7,9,10])   # Create a rank 1 array\n",
    "print(a.shape)            \n",
    "a[0] = 5                  # Change an element of the array\n",
    "print(a)                  \n",
    "b = np.array([[1,2,3],[4,5,6]])    \n",
    "print(b.shape)                     \n",
    "print(b[0, 0], b[0, 1], b[1, 0])"
   ]
  },
  {
   "cell_type": "code",
   "execution_count": 33,
   "metadata": {},
   "outputs": [
    {
     "name": "stdout",
     "output_type": "stream",
     "text": [
      "[[0. 0. 0. 0.]\n",
      " [0. 0. 0. 0.]\n",
      " [0. 0. 0. 0.]\n",
      " [0. 0. 0. 0.]]\n",
      "[[1. 1. 1. 1.]]\n",
      "[[42 42]\n",
      " [42 42]]\n",
      "[[1. 0.]\n",
      " [0. 1.]]\n",
      "[[0.75887552 0.62143908 0.55643896 0.19567126]\n",
      " [0.74237607 0.74430422 0.29126068 0.2695651 ]\n",
      " [0.3577372  0.01126678 0.35575961 0.85381708]\n",
      " [0.63077995 0.02902221 0.99934766 0.33074027]]\n"
     ]
    }
   ],
   "source": [
    "a = np.zeros((4,4))   # Create an array of all zeros\n",
    "print(a)              \n",
    "\n",
    "b = np.ones((1,4))    # Create an array of all ones\n",
    "print(b)              \n",
    "\n",
    "c = np.full((2,2), 42)  # Create a constant array\n",
    "print(c)               \n",
    "\n",
    "d = np.eye(2)         # Create a 2x2 identity matrix\n",
    "print(d)              \n",
    "\n",
    "e = np.random.random((4,4))  # Create an array filled with random values\n",
    "print(e)                    "
   ]
  },
  {
   "cell_type": "code",
   "execution_count": 34,
   "metadata": {},
   "outputs": [
    {
     "name": "stdout",
     "output_type": "stream",
     "text": [
      "[[ 6.  8.]\n",
      " [10. 12.]]\n",
      "[[ 6.  8.]\n",
      " [10. 12.]]\n"
     ]
    }
   ],
   "source": [
    "\n",
    "\n",
    "x = np.array([[1,2],[3,4]], dtype=np.float64)\n",
    "y = np.array([[5,6],[7,8]], dtype=np.float64)\n",
    "\n",
    "\n",
    "print(x + y)\n",
    "print(np.add(x, y))\n"
   ]
  },
  {
   "cell_type": "code",
   "execution_count": 35,
   "metadata": {},
   "outputs": [
    {
     "name": "stdout",
     "output_type": "stream",
     "text": [
      "[[-4. -4.]\n",
      " [-4. -4.]]\n",
      "[[-4. -4.]\n",
      " [-4. -4.]]\n"
     ]
    }
   ],
   "source": [
    "print(x - y)\n",
    "print(np.subtract(x, y))\n",
    "\n"
   ]
  },
  {
   "cell_type": "code",
   "execution_count": 36,
   "metadata": {},
   "outputs": [
    {
     "name": "stdout",
     "output_type": "stream",
     "text": [
      "[[ 5. 12.]\n",
      " [21. 32.]]\n",
      "[[ 5. 12.]\n",
      " [21. 32.]]\n"
     ]
    }
   ],
   "source": [
    "print(x * y)\n",
    "print(np.multiply(x, y))"
   ]
  },
  {
   "cell_type": "code",
   "execution_count": 37,
   "metadata": {},
   "outputs": [
    {
     "name": "stdout",
     "output_type": "stream",
     "text": [
      "[[0.2        0.33333333]\n",
      " [0.42857143 0.5       ]]\n",
      "[[0.2        0.33333333]\n",
      " [0.42857143 0.5       ]]\n"
     ]
    }
   ],
   "source": [
    "print(x / y)\n",
    "print(np.divide(x, y))"
   ]
  },
  {
   "cell_type": "code",
   "execution_count": 38,
   "metadata": {},
   "outputs": [
    {
     "name": "stdout",
     "output_type": "stream",
     "text": [
      "[[1.         1.41421356]\n",
      " [1.73205081 2.        ]]\n"
     ]
    }
   ],
   "source": [
    "print(np.sqrt(x))"
   ]
  }
 ],
 "metadata": {
  "kernelspec": {
   "display_name": "Python 3",
   "language": "python",
   "name": "python3"
  },
  "language_info": {
   "codemirror_mode": {
    "name": "ipython",
    "version": 3
   },
   "file_extension": ".py",
   "mimetype": "text/x-python",
   "name": "python",
   "nbconvert_exporter": "python",
   "pygments_lexer": "ipython3",
   "version": "3.7.3"
  }
 },
 "nbformat": 4,
 "nbformat_minor": 2
}
